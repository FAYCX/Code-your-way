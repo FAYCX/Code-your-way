{
 "cells": [
  {
   "cell_type": "markdown",
   "id": "db43c4bc",
   "metadata": {},
   "source": [
    "# WEEK 5\n"
   ]
  },
  {
   "cell_type": "markdown",
   "id": "8cdb3525",
   "metadata": {},
   "source": [
    "###  <span style=\"color:green\">Exercise sketches from examples:</span>\n"
   ]
  },
  {
   "cell_type": "markdown",
   "id": "f1727c32",
   "metadata": {},
   "source": [
    "* [infinite corridor](https://editor.p5js.org/Faycx/full/MekWygNnn)\n",
    "* [Dismantle data viz](https://editor.p5js.org/Faycx/full/GXFgmYzYf) With Music\n",
    "* [Spinning Cone](https://editor.p5js.org/Faycx/full/vRo_LAodQ)\n",
    "* [Painting?](https://editor.p5js.org/Faycx/full/O8kejpkg_)\n"
   ]
  },
  {
   "cell_type": "markdown",
   "id": "34a177d1",
   "metadata": {},
   "source": [
    "    This week's exploration refreshed my knowledge both in trigonometry and sound amplitude and ocillation, also helped me deepen one concept - polar coordinate, which I encounted previously but not fully explored. \n",
    "    \n",
    "    The second sketch 'Dismantle data viz' is a music visualization project, was particularly enjoyable for me to create. In today's world, data's ubiquity across domains poses various challengs and opportunities in its application. I deal with data science almost everyday in various ways, but I especially enjoy one aspect of data particularly in the domain of creative coding，is its computational lingustics expression, and representation in a poetic and artistic manner. I like to believe that the value of seemingly \"useless\" explorations and the joy in simple pleasures, highlighting a profound distinction between artificial intelligence and \n",
    "    human nuance in the far future. "
   ]
  },
  {
   "cell_type": "markdown",
   "id": "94ce87a2",
   "metadata": {},
   "source": [
    "###  <span style=\"color:green\">\"Daily\" Practice from this week:</span>"
   ]
  },
  {
   "cell_type": "markdown",
   "id": "ad6811ee",
   "metadata": {},
   "source": [
    "  * [TIME](https://editor.p5js.org/Faycx/full/GpZ_hMB6j)  Move your mouse to engage with time\n",
    "  * [Forest Sun Rays](https://editor.p5js.org/Faycx/full/3QxnILI37)\n",
    "  * [Expanding](https://editor.p5js.org/Faycx/full/gpu0QB-cp)"
   ]
  },
  {
   "cell_type": "markdown",
   "id": "0d653614",
   "metadata": {},
   "source": [
    "    'TIME' is a sketch focus on conceptual interaction in Time, I used vector math and HSB coloMode to enhance the playfulness. It would add more dimension if I could also implement a physical sensor for controlling the interaction in place of the mouse."
   ]
  },
  {
   "cell_type": "markdown",
   "id": "1bc56c64",
   "metadata": {},
   "source": [
    "    Throughout each weeks practice, I noticed that I often revisit P5 reference page to jog my memory on different functions, finding it not only refreshed my knowledge but also sparks new interpretations and understandings towards that function. This learning journey, sometimes marked by struggles and frustrations, is profoundly rewarding, allowing me to embody the essence of exploration and possbilities in computational lingusitics in the digital age."
   ]
  },
  {
   "cell_type": "markdown",
   "id": "7ca7d531",
   "metadata": {},
   "source": [
    "Some pictures from this week's sketches:"
   ]
  },
  {
   "cell_type": "markdown",
   "id": "f1c38c77",
   "metadata": {},
   "source": [
    "<img src=\"Time.jpeg\" width=\"450\" height=\"450\"><img src=\"Sunrays.jpeg\" width=\"450\" height=\"450\"><img src=\"data viz.jpeg\" width=\"450\" height=\"450\"><img src=\"spinning.png\" width=\"450\" height=\"450\">"
   ]
  }
 ],
 "metadata": {
  "kernelspec": {
   "display_name": "Python 3 (ipykernel)",
   "language": "python",
   "name": "python3"
  },
  "language_info": {
   "codemirror_mode": {
    "name": "ipython",
    "version": 3
   },
   "file_extension": ".py",
   "mimetype": "text/x-python",
   "name": "python",
   "nbconvert_exporter": "python",
   "pygments_lexer": "ipython3",
   "version": "3.11.8"
  }
 },
 "nbformat": 4,
 "nbformat_minor": 5
}
