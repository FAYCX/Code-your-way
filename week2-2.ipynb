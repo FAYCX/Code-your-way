{
 "cells": [
  {
   "cell_type": "markdown",
   "id": "798e42b6",
   "metadata": {},
   "source": [
    "# Week2 Play with pseudorandomness"
   ]
  },
  {
   "cell_type": "markdown",
   "id": "4c271e56",
   "metadata": {},
   "source": [
    "## <span style=\"color:green;\"> Encode part </span>\n",
    "\n"
   ]
  },
  {
   "cell_type": "markdown",
   "id": "af951f7f",
   "metadata": {},
   "source": [
    "#### <span style=\"color:black;line-height:1.5;\">I found this week's coding assignment to be quite engaging, especially when cracking and encoding the code. The output surprised me in ways I couldn't have visualized through the code itself. However, after the first two encoding examples, I gained a better understanding of how to encode and visualize the pattern in my mind. I really enjoyed the encoding exercises because they deepened the connection between coding logic and human interpretation in a more profound way.</span>\n",
    "\n",
    "#### <span style=\"color:black;line-height:1.5;\">Along the encode process, I also manipulated and played with some of the parameters inside these code to create different dynamic relations. Here are the two sketched link:\n",
    "</span>"
   ]
  },
  {
   "cell_type": "markdown",
   "id": "d306c71a",
   "metadata": {},
   "source": [
    "### [Sketch 1](https://editor.p5js.org/Faycx/full/T-c1OpSw-)  \n",
    "\n",
    "<span style=\"color:grey;line-height:1;\">Inspired by Vera Molnár's Du Cycle: “Carrés Non-Concentriques” (1974)\n",
    "    \n",
    "<span style=\"color:black;\">In my revised sketch, I created and separated the drawRectangle() function from the previous setup. Originally, it was written within the setup function. I structured it this way so that the pattern could be redrawed and respond to dynamic changes in the user's screen size. As the window size changes dynamically, the pattern adjusts its parameters accordingly. Additionally, I made some tweaks to the x and y coordinates' parameters. At a certain point, the chaotic rectangular patterns align perfectly and symmetrically in the center.\n",
    "</span>"
   ]
  },
  {
   "cell_type": "markdown",
   "id": "4b8714b6",
   "metadata": {},
   "source": [
    "## <span style=\"color:green;\">Practice part</span>"
   ]
  },
  {
   "cell_type": "markdown",
   "id": "988020a9",
   "metadata": {},
   "source": [
    "#### <span style=\"color:black;line-height:1.5;\">Throughout this week's practice, my focus has centered on exploring randomness through functions like random, chance, and the concepts of Perlin noise. Through practicing these functions, I created two sketches. These animations showcase classic yet innovative concepts, both exploring the possibilities of using computational language to enhance our physical and spiritual world.</span>"
   ]
  },
  {
   "cell_type": "markdown",
   "id": "ca3f0886",
   "metadata": {},
   "source": [
    "### Perlin noise sketch:\n",
    "### <span style=\"color:green;\"> [Fireflies](https://editor.p5js.org/Faycx/full/xe4gaVqhh)</span>"
   ]
  },
  {
   "cell_type": "markdown",
   "id": "3d6a1a6d",
   "metadata": {},
   "source": [
    "## <span style=\"color:green;\">Ask AI part</span>"
   ]
  },
  {
   "cell_type": "markdown",
   "id": "a18e7ad0",
   "metadata": {},
   "source": [
    "#### <span style=\"color:black;line-height:1.5;\">During this week's exercise, in order to create a visually appealing butterfly, I want to deepen my understanding of trigonometry. The question is: Can you please explain the difference between degrees and radians? </span>\n",
    "\n",
    "#### <span style=\"color:black;line-height:1.5;\">And here's the answer:</span>\n",
    "\n",
    "Certainly! In trigonometry, the relationship between degrees and radians is as follows:\n",
    "\n",
    "1 radian = 180° / π\n",
    "\n",
    "Conversely,\n",
    "\n",
    "1 degree = π / 180 radians\n",
    "\n",
    "So, to convert degrees to radians, you can use the formula:\n",
    "\n",
    "radians = degrees * (π / 180)\n",
    "\n",
    "And to convert radians to degrees:\n",
    "\n",
    "degrees = radians * (180 / π)\n",
    "\n",
    "Here are some common angles converted between degrees and radians:\n",
    "\n",
    "0° = 0 radians\n",
    "30° = π / 6 radians\n",
    "45° = π / 4 radians\n",
    "60° = π / 3 radians\n",
    "90° = π / 2 radians\n",
    "180° = π radians\n",
    "270° = 3π / 2 radians\n",
    "360° = 2π radians\n",
    "\n",
    "You can use these conversions to easily switch between degrees and radians in your trigonometric calculations."
   ]
  }
 ],
 "metadata": {
  "kernelspec": {
   "display_name": "Python 3 (ipykernel)",
   "language": "python",
   "name": "python3"
  },
  "language_info": {
   "codemirror_mode": {
    "name": "ipython",
    "version": 3
   },
   "file_extension": ".py",
   "mimetype": "text/x-python",
   "name": "python",
   "nbconvert_exporter": "python",
   "pygments_lexer": "ipython3",
   "version": "3.11.5"
  }
 },
 "nbformat": 4,
 "nbformat_minor": 5
}
