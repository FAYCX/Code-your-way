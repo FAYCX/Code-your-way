{
 "cells": [
  {
   "cell_type": "markdown",
   "id": "798e42b6",
   "metadata": {},
   "source": [
    "# Week1 Loading Icons"
   ]
  },
  {
   "cell_type": "markdown",
   "id": "4c271e56",
   "metadata": {},
   "source": [
    "## <span style=\"color:green;\"> Encode part </span>\n",
    "\n"
   ]
  },
  {
   "cell_type": "markdown",
   "id": "af951f7f",
   "metadata": {},
   "source": [
    "#### <span style=\"color:black;line-height:1.5;\">Throughout this week's process of encoding information, I've taken the opportunity to revisit and reinforce my understanding of fundamental mathematical functions such as rotation, sine, cosine, and modulo operations. These functions play crucial roles in various computational tasks, from graphics rendering to signal processing.</span>\n",
    "\n",
    "#### <span style=\"color:black;line-height:1.5;\">One concept that stood out to me during this review is the 'blendMode' function, which I encountered for the first time. Upon conducting further research into this function, I discovered that it offers a range of mode parameters that dictate how graphical elements interact and blend with each other on a canvas or screen. \n",
    "</span>\n",
    "    \n",
    "<span style=\"color:green;line-height:2;\">\n",
    "These mode parameters include:</span> </br>\n",
    "\n",
    "BLEND: Standard alpha blending.</br>\n",
    "DARKEST: Retains the darkest color of the two source colors.</br>\n",
    "LIGHTEST: Retains the lightest color of the two source colors.</br>\n",
    "DIFFERENCE: Subtracts the darker color from the lighter color.</br>\n",
    "MULTIPLY: Multiplies the colors of the two source pixels.</br>\n",
    "EXCLUSION: Similar to difference, but with lower contrast.</br>\n",
    "SCREEN: Inverts the colors, multiplies, and inverts back.</br>\n",
    "REPLACE: Overwrites the destination with the source.</br>\n",
    "OVERLAY: Combines multiply and screen blend modes.</br>\n",
    "HARD_LIGHT: A combination of multiply and overlay for strong contrast.</br>\n",
    "SOFT_LIGHT: A softer version of hard light.</br>\n",
    "DODGE: Lightens the destination color.</br>\n",
    "BURN: Darkens the destination color.</br>\n",
    "ADD: Adds the colors of the two source pixels.</br>\n",
    "REMOVE: Subtracts the colors of the two source pixels.</br>\n",
    "SUBTRACT: Subtracts the colors of the two source pixels, but inverted.</br>\n",
    "\n",
    "Understanding and utilizing these blend modes can significantly enhance the visual effects and aesthetics of graphical applications, allowing for more dynamic and expressive designs."
   ]
  },
  {
   "cell_type": "markdown",
   "id": "4b8714b6",
   "metadata": {},
   "source": [
    "## <span style=\"color:green;\">Practice part</span>"
   ]
  },
  {
   "cell_type": "markdown",
   "id": "988020a9",
   "metadata": {},
   "source": [
    "#### <span style=\"color:black;line-height:1.5;\"> During this week, my practice has primarily revolved around practicing rotation through angles and the trigonometric concepts of sine and cosine. Practice these most basic mathematical principles, I created two straightforward yet captivating loading icon animations using P5.js code. These animations feature classic icons often encountered on various applications or websites. To add a sense of playfulness into the animations, I experimented with manipulating both the color parameters and the alpha channel.</span>\n",
    "\n",
    "#### <span style=\"color:black;line-height:1.5;\">Additionally, I created a visualization of dynamic and evolving patterns emerging from the interplay between circles expanding and shrinking, symbolize the individual's journey through the complexities of existence, evolving and adapting into different stages of beauty as they navigate the boundless canvas of life</span>\n",
    "\n",
    "#### <span style=\"color:black;line-height:1.5;\">Below are the links to the sketches: </span>"
   ]
  },
  {
   "cell_type": "markdown",
   "id": "ca3f0886",
   "metadata": {},
   "source": [
    "### Loading Icon 1: <span style=\"font-size:14px;color:blue;line-height:1\"> [Sketch 1](https://editor.p5js.org/Faycx/full/CIcx8DlOA)</span>"
   ]
  },
  {
   "cell_type": "markdown",
   "id": "390b7bca",
   "metadata": {},
   "source": [
    "### Loading Icon 2: <span style=\"font-size:14px;color:blue;\">[Sketch 2](https://editor.p5js.org/Faycx/full/i-1mvR8fv)</span>"
   ]
  },
  {
   "cell_type": "markdown",
   "id": "35a43681",
   "metadata": {},
   "source": [
    "### Dynamic circles evolving through time: <span style=\"font-size:14px;color:red;\">[The beauty of stages](https://editor.p5js.org/Faycx/full/NiwXzx4QS)</span>"
   ]
  },
  {
   "cell_type": "markdown",
   "id": "3d6a1a6d",
   "metadata": {},
   "source": [
    "## <span style=\"color:green;\">Ask AI part</span>"
   ]
  },
  {
   "cell_type": "markdown",
   "id": "a18e7ad0",
   "metadata": {},
   "source": [
    "#### <span style=\"color:black;line-height:1.5;\"> For this week's assignment, I haven't come up with any questions to discuss with AI. I've already encountered most of the functions and syntax during my practice. Additionally, I can easily reference and learn the 'blendMode', which I wasn't familiar with before, on the P5 reference website.</span>\n"
   ]
  }
 ],
 "metadata": {
  "kernelspec": {
   "display_name": "Python 3 (ipykernel)",
   "language": "python",
   "name": "python3"
  },
  "language_info": {
   "codemirror_mode": {
    "name": "ipython",
    "version": 3
   },
   "file_extension": ".py",
   "mimetype": "text/x-python",
   "name": "python",
   "nbconvert_exporter": "python",
   "pygments_lexer": "ipython3",
   "version": "3.11.5"
  }
 },
 "nbformat": 4,
 "nbformat_minor": 5
}
