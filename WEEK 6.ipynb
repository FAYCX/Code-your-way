{
 "cells": [
  {
   "cell_type": "markdown",
   "id": "34d5de98",
   "metadata": {},
   "source": [
    "# WEEK 6"
   ]
  },
  {
   "cell_type": "markdown",
   "id": "7afbb7ef",
   "metadata": {},
   "source": [
    "This week I refactored and recoded one of my previous sketches, `Origami ocean&boats`. As previously mentioned, I was exploring ways to render the boats more dynamically and smoothly without intersecting with the line. Given this week's assignment, I seized the opportunity to consider more thoroughly about how the sketch could be refined and refactored. "
   ]
  },
  {
   "cell_type": "markdown",
   "id": "34756102",
   "metadata": {},
   "source": [
    "> [Origami Ocean&Boat Version 2.0](https://editor.p5js.org/Faycx/full/M7FARw29J)"
   ]
  },
  {
   "cell_type": "markdown",
   "id": "4363baa7",
   "metadata": {},
   "source": [
    "In this new version, I reorganized boatsInfo as a `dictionary` and used a `for` loop to render each boat. This approach makes it efficient and convenient to add new boat information to the dictionary if I intend to add more boats later.\n",
    "\n",
    "\n",
    "It took me a while to figure out how to render the boat without intersecting the line. The method I chose for this sketch involves locating the boat's y-position and subtracting 10px from that value. This ensures that, no matter where the boat is, its y-position will be dynamically 10px higher than the line's y-position.\n",
    "\n",
    "\n",
    "Finally, for a better interactive and playful experience, I added a wave control `slider`. This allows users to control the strength of the ocean and observe the interplay between the ocean wave's fluctuation and the boat's swing."
   ]
  },
  {
   "cell_type": "markdown",
   "id": "d2afc9c6",
   "metadata": {},
   "source": [
    "<img src=\"boat1.jpeg\" width=\"450\" height=\"450\"> <img src=\"boat2.jpeg\" width=\"450\" height=\"450\">"
   ]
  },
  {
   "cell_type": "markdown",
   "id": "0e758cfd",
   "metadata": {},
   "source": [
    "> [Origami mama&baby birds](https://editor.p5js.org/Faycx/full/KKDl_MbaB)"
   ]
  },
  {
   "cell_type": "markdown",
   "id": "3394ba7c",
   "metadata": {},
   "source": [
    "Inspired by the aesthetic possibilities of the origami format, I decided to explore its digital representation further. Therefor, I created another sketch within this theme, called `Origami mama&baby birds`."
   ]
  },
  {
   "cell_type": "markdown",
   "id": "d4309f3d",
   "metadata": {},
   "source": [
    "My design intention for this project is to combine `the force of nature` with `Origami digital representation`, utilizing mathematical formulas of force to simulate a lifelike behavioral phenomena intertwined with a paper-like touch."
   ]
  },
  {
   "cell_type": "markdown",
   "id": "35fc9731",
   "metadata": {},
   "source": [
    "Furthermore, I replaced the cursor with a `mommy bird` to infuse additional playfulness and sensuality into this digital sketch, culminating in a warm and inviting touch in the digital realm."
   ]
  },
  {
   "cell_type": "markdown",
   "id": "63559b5d",
   "metadata": {},
   "source": [
    "<img src=\"bird1.jpeg\" width=\"450\" height=\"450\"> <img src=\"bird2.jpeg\" width=\"450\" height=\"450\">"
   ]
  },
  {
   "cell_type": "markdown",
   "id": "0a86e69b",
   "metadata": {},
   "source": [
    "At the end of this week, I also practiced working with `p5LiveMedia` and `P5Speech` libraries. While the former is quite challenging, the latter is extremly fun. I might try to ultilize these libraries in my future work more often. Due to being overloaded with midterm projects this week, I will practice more on the git repository and refactoring part during the break."
   ]
  }
 ],
 "metadata": {
  "kernelspec": {
   "display_name": "Python 3 (ipykernel)",
   "language": "python",
   "name": "python3"
  },
  "language_info": {
   "codemirror_mode": {
    "name": "ipython",
    "version": 3
   },
   "file_extension": ".py",
   "mimetype": "text/x-python",
   "name": "python",
   "nbconvert_exporter": "python",
   "pygments_lexer": "ipython3",
   "version": "3.11.8"
  }
 },
 "nbformat": 4,
 "nbformat_minor": 5
}
