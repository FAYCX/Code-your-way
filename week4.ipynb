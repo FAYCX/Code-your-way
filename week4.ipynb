{
 "cells": [
  {
   "cell_type": "markdown",
   "id": "36580f69",
   "metadata": {},
   "source": [
    "# Week 4"
   ]
  },
  {
   "cell_type": "markdown",
   "id": "60c5f0c6",
   "metadata": {},
   "source": [
    "###  <span style=\"color:green\">Encode & Decode exercise:</span>"
   ]
  },
  {
   "cell_type": "markdown",
   "id": "d805d93e",
   "metadata": {},
   "source": [
    "* [Encode 1](https://editor.p5js.org/enickles/sketches/ioXnSfKXD) \n",
    "* [Encode 2](https://editor.p5js.org/enickles/full/tuRBCkhGQ)\n",
    "* [Encode 3](https://editor.p5js.org/enickles/full/kZzj9Atg1)\n",
    "* [Encode 4](https://editor.p5js.org/enickles/full/Y_x3PiIpy)"
   ]
  },
  {
   "cell_type": "markdown",
   "id": "9261dbfd",
   "metadata": {},
   "source": [
    "While working on the <span style=\"color:purple\"> Exercise 1</span>, an sketch inspired by Georg Ness' Schotter, I initially found myself perplexed by the concept of specifying a negative number for the square. However, upon further examination, I realized this perculiar notation was a concequence of the previous 'translate' function. The coordinates 'x' and 'y' needed to revert to the top left corner in each square, which corresponds to -cellSize/2 and -cellSize/2.\n",
    "\n",
    "This sudden realization sparked a stream of thoughts about the limitation of human brain's storage capacity. Despite immersing myself in various multidisciplinary domains of study over the past weekend and throughout this whole week without touching P5 language, I found myself struggling with a seemingly straightforward logical concept that I would typically grasp easily in other scenarios. Intergrating and connecting these diverse domains while shifting gears bewteen them proved to be more critical and challenge than I had anticipated. "
   ]
  },
  {
   "cell_type": "markdown",
   "id": "898cde40",
   "metadata": {},
   "source": [
    "For the <span style=\"color:purple\"> Ecode 2 </span>, after carefully sketching on my paper, I examined the origianl code. What I found interesting is that, I initially set the the size differently at a fix number as the ratio appears the same to me. And in a more flexible manner, the original code set its magnitude correlated to the 'sqSize'. Both way works, I have zero doublt on that, but making it more corresponding to other variables is might be a better choice in general in terms of creative coding I assume. "
   ]
  },
  {
   "cell_type": "markdown",
   "id": "0f822682",
   "metadata": {},
   "source": [
    "I had a lot of fun encoding <span style=\"color:purple\"> Exercise 3 </span>, and in my sketch, I didn't use the random function. Instead, I implemented 'frameCount' combined with 'noise', which made the pattern appear more organic and natural to me. I encountered a bit of a challenge in <span style=\"color:purple\"> Encode 4 </span>. It took me a long time to figure out how to nest a 'for' loop within another. Because initially, I thought it might manipulate one 'line' with a randomized rotation angle and decreased space until I examined the code and found the 'if' statement. Another thing that caught my attention is that I've never seen an example of storing 'a list of arrays' inside parentheses without declaring it outside first.\n",
    "\n",
    "\n",
    "Notes:\n",
    "* strokeCap(ROUND/SQUARE/PROJECT)\n",
    "* someFunlist( [\n",
    "  [1, 2, 3],\n",
    "  [4, 5, 6],\n",
    "  [7, 8, 9]\n",
    "] );"
   ]
  },
  {
   "cell_type": "markdown",
   "id": "a0455ca1",
   "metadata": {},
   "source": [
    "##  <span style=\"color:green\">Re/code:</span>"
   ]
  },
  {
   "cell_type": "markdown",
   "id": "f653e3ec",
   "metadata": {},
   "source": [
    "#### My own sketches from this week:"
   ]
  },
  {
   "cell_type": "markdown",
   "id": "30620a5a",
   "metadata": {},
   "source": [
    "* [Radiant Organism](https://editor.p5js.org/Faycx/full/OHvxpS9Da)\n",
    "* [Origami Ocean and Boat](https://editor.p5js.org/Faycx/full/M7FARw29J) - Needs to be improved"
   ]
  },
  {
   "cell_type": "markdown",
   "id": "091532d8",
   "metadata": {},
   "source": [
    "Throughout this week's exploration and exercises, my practice mainly focused on ultilizing perlin noise and the HSB Color mode, as well as its radiant expandsion. I was able to create two sketches further demonstrating my understanding and exploration of these functions. The most struggle part of this process was refining the algorithms. Thanks to p5, I was able to iterate on my design frequently so I can examine my algorithmic theories synchronously.\n",
    "\n",
    "In the second sketch, origami ocean and boat. My initial design concept is to recreate an origami style of animation where boats dynamically floating on the flutuating ocean waves. I deliberately rendered the boats after the ocean waves, so presumably the boats' z index will be higher than ocean, yet you can still see the white line intersecting the boat. I'm still working on figure how to draw the boat more dynamicly and smoothly."
   ]
  },
  {
   "cell_type": "markdown",
   "id": "1dfa34c6",
   "metadata": {},
   "source": [
    "Overall, I had a lot of fun practicing encoding and decoding, as well as recoding exercises this week. It's always inspiring and engaging when working with JavaScript in the realm of creative coding."
   ]
  }
 ],
 "metadata": {
  "kernelspec": {
   "display_name": "Python 3 (ipykernel)",
   "language": "python",
   "name": "python3"
  },
  "language_info": {
   "codemirror_mode": {
    "name": "ipython",
    "version": 3
   },
   "file_extension": ".py",
   "mimetype": "text/x-python",
   "name": "python",
   "nbconvert_exporter": "python",
   "pygments_lexer": "ipython3",
   "version": "3.11.5"
  }
 },
 "nbformat": 4,
 "nbformat_minor": 5
}
