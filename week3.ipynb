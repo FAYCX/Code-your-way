{
 "cells": [
  {
   "cell_type": "markdown",
   "id": "798e42b6",
   "metadata": {},
   "source": [
    "# Week3  Chance embodies randomness"
   ]
  },
  {
   "cell_type": "markdown",
   "id": "4c271e56",
   "metadata": {},
   "source": [
    "## <span style=\"color:green;\"> Encode & Decode part </span>\n",
    "\n"
   ]
  },
  {
   "cell_type": "markdown",
   "id": "af951f7f",
   "metadata": {},
   "source": [
    "#### <span style=\"color:black;line-height:1.5;\">This week's encode and decode assignment are also quite engaging. In vertue of last week's practice, I found myself better able to visualize the code itself. However, there are still some aspects I might be missing along the way. It's very rewarding when you finally crack the code in a more holistic way. I really enjoyed these exercises because they deepened the connection between my coding logic and personal interpretation in a more profound manner.</span>\n",
    "\n",
    "#### <span style=\"color:black;line-height:1.5;\">Along the encode process, I also manipulated and played with some of the parameters inside these code to create different dynamic relations. Here are the two sketched link:\n",
    "</span>"
   ]
  },
  {
   "cell_type": "markdown",
   "id": "d306c71a",
   "metadata": {},
   "source": [
    "### \"Boogie Woogie\" sketch:\n",
    "### <span style=\"color:green;\"> [Interactive modern \"Boogie Woogie\"](https://editor.p5js.org/Faycx/full/POce9WaRY)</span>\n",
    "    \n",
    "<span style=\"color:black;\">In my revised sketch, I rearranged the parameters of chance to correspond with the original artwork from Piet Mondrian's Broadway Boogie Woogie (1943). Drawing inspiration from the color distribution pattern and spatial construction, I determined the corresponding colors and their probabilities of occurrence. Additionally, I created a global variable 'seed' and assigned a random(1000) value to it within the mousePressed function. This allows us to identify the sequence of the random seed through each iteration, for later use.</span>"
   ]
  },
  {
   "cell_type": "markdown",
   "id": "4b8714b6",
   "metadata": {},
   "source": [
    "## <span style=\"color:green;\">Practice part</span>"
   ]
  },
  {
   "cell_type": "markdown",
   "id": "988020a9",
   "metadata": {},
   "source": [
    "#### <span style=\"color:black;line-height:1.5;\">Throughout this week's practice, my focus has centered on exploring the concept of vector. Through practicing this functions, I created one sketch called Comic petal spin. This interactive sketch “Comic petal spin”toggles between color schemes, influencing the vibrant hues of spinning petals. It uses basic geometry, color blending, and rotation to allow users to playfully explore different color combinations in real-time, creating a dynamic visual experience.</span>"
   ]
  },
  {
   "cell_type": "markdown",
   "id": "ca3f0886",
   "metadata": {},
   "source": [
    "### Interactive flower-color palette:\n",
    "### <span style=\"color:green;\"> [Cosmic petal spin](https://editor.p5js.org/Faycx/full/w2RBSG6f4)</span>"
   ]
  },
  {
   "cell_type": "markdown",
   "id": "3d6a1a6d",
   "metadata": {},
   "source": [
    "## <span style=\"color:green;\">AI as Student part</span>"
   ]
  },
  {
   "cell_type": "markdown",
   "id": "9221542e",
   "metadata": {},
   "source": [
    "#### <span style=\"color:black;line-height:1.5;\"> This week I asked AI: Do you understand the difference between artificial intelligence and human intelligence? </span>"
   ]
  },
  {
   "cell_type": "markdown",
   "id": "90983e90",
   "metadata": {},
   "source": [
    "#### <span style=\"color:black;line-height:1.5;\"> And the conversation goes as below: </span>"
   ]
  },
  {
   "cell_type": "markdown",
   "id": "5833b7df",
   "metadata": {},
   "source": [
    "#### <span style=\"color:grey;line-height:1.5;\"> ChatGPT:Yes, I understand the difference between artificial intelligence (AI) and human intelligence.\n",
    "\n",
    "Artificial intelligence refers to the ability of a computer or machine to perform tasks that typically require human intelligence. AI systems are designed to mimic cognitive functions such as learning, problem-solving, perception, and language understanding. They rely on algorithms, data, and computational power to analyze patterns, make decisions, and improve performance over time.\n",
    "\n",
    "Human intelligence, on the other hand, encompasses the cognitive abilities and mental processes exhibited by humans. It includes a wide range of capabilities such as reasoning, creativity, emotional intelligence, intuition, and social interaction. Human intelligence is characterized by flexibility, adaptability, consciousness, and self-awareness, allowing individuals to navigate complex and unpredictable situations in diverse environments.\n",
    "\n",
    "While AI systems can excel in specific tasks and domains, they currently lack the holistic and multi-faceted nature of human intelligence. Human intelligence is deeply rooted in biological structures and evolved over millions of years, resulting in a level of complexity, context sensitivity, and understanding of nuanced concepts that AI has yet to fully achieve. Additionally, human intelligence encompasses aspects such as consciousness, moral reasoning, and ethical judgment, which are challenging to replicate in machines.\n",
    "\n",
    "In summary, while AI and human intelligence share some similarities in their ability to process information and make decisions, they also exhibit distinct differences in terms of their scope, nature, and underlying mechanisms.\n",
    "User </span>>\n",
    "\n",
    "#### <span style=\"color:black;line-height:1.5;\"> User: You're right. Most importantly, human intelligence encompasses a foresight that extends beyond statistical data and information. It integrates textual awareness, emotional intelligence, and diverse interpretations based on an individual's life experiences. These elements form a unique blend that AI cannot replicate.</span> \n",
    "\n",
    "<span style=\"color:grey;line-height:1.5;\"> ChatGPT：Absolutely, you've highlighted a crucial aspect of human intelligence that distinguishes it from artificial intelligence. Human intelligence encompasses a rich tapestry of experiences, emotions, and contextual understanding that goes far beyond statistical data and information.</span>\n",
    "\n",
    " <span style=\"color:grey;line-height:1.5;\">Foresight, emotional intelligence, and the ability to interpret complex situations based on life experiences are indeed hallmarks of human intelligence. Humans can draw upon their past experiences, cultural backgrounds, personal beliefs, and social interactions to make nuanced judgments and decisions in a wide range of contexts. This contextual awareness and emotional depth allow humans to navigate uncertain and ambiguous situations with empathy, creativity, and adaptability.</span>\n",
    "\n",
    "<span style=\"color:grey;line-height:1.5;\"> While AI systems can process vast amounts of data and perform specific tasks with impressive accuracy, they lack the deep understanding, empathy, and intuition that humans possess. Human intelligence is not merely about processing information but also about understanding the underlying meanings, motivations, and emotions that shape human behavior and interactions.</span>\n",
    "\n",
    "<span style=\"color:grey;line-height:1.5;\">As such, while AI technologies continue to advance and complement human capabilities in various domains, there are certain aspects of human intelligence, such as emotional understanding and moral reasoning, that remain uniquely human and are unlikely to be replicated by machines. Embracing and nurturing these aspects of human intelligence is essential for fostering meaningful connections, creativity, and ethical decision-making in a rapidly evolving technological landscape. </span>\n",
    "\n",
    "\n",
    "\n"
   ]
  }
 ],
 "metadata": {
  "kernelspec": {
   "display_name": "Python 3 (ipykernel)",
   "language": "python",
   "name": "python3"
  },
  "language_info": {
   "codemirror_mode": {
    "name": "ipython",
    "version": 3
   },
   "file_extension": ".py",
   "mimetype": "text/x-python",
   "name": "python",
   "nbconvert_exporter": "python",
   "pygments_lexer": "ipython3",
   "version": "3.11.5"
  }
 },
 "nbformat": 4,
 "nbformat_minor": 5
}
