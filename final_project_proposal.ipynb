{
 "cells": [
  {
   "cell_type": "markdown",
   "id": "bad5fe4b",
   "metadata": {},
   "source": [
    "#### Data science & Cognitive science & Computational art "
   ]
  },
  {
   "cell_type": "markdown",
   "id": "03b85ab4",
   "metadata": {},
   "source": [
    "<h1 style=\"text-align: center; margin:30px; color:black; font-family:Helvetica Neue; font-style:italic;\">Sentiment Landscape Visualization through NLP</h1>\n",
    "<h2 style=\"text-align: center; font-family:Helvetica Neue; color:#666666; font-size:21px;\">Uncover the prevailing sentiments and linguistic patterns</h2>"
   ]
  },
  {
   "cell_type": "markdown",
   "id": "7e8cdea5",
   "metadata": {},
   "source": [
    " "
   ]
  },
  {
   "cell_type": "markdown",
   "id": "775e71a5",
   "metadata": {},
   "source": [
    "\n",
    "\n",
    "\n",
    "### Table of Contents\n",
    "\n",
    "- [Abstract](#1)\n",
    "- [Project Goal](#2)\n",
    "- [Research](#3)\n",
    "  - [Data Source](#3.1)\n",
    "  - [Potential Use Cases](#3.2)\n",
    "  - [Methodology](#3.3)  \n",
    "  - [Reference images for visualization](#3.4)\n",
    "- [Data Preprocessing]\n",
    "- [NLP Model Training]\n",
    "- [Data Analyzing]\n",
    "- [Information Design]\n",
    "- [Narrative through Creative Coding]\n",
    "- [Conclusion]"
   ]
  },
  {
   "cell_type": "markdown",
   "id": "56072766",
   "metadata": {},
   "source": [
    " "
   ]
  },
  {
   "cell_type": "markdown",
   "id": "ac51258e",
   "metadata": {},
   "source": [
    "<a name='#1'></a>\n",
    "<h2 style=\"font-family:Helvetica Neue; margin:22px; font-style:italic; text-align:left;\"> Abstract </h2>"
   ]
  },
  {
   "cell_type": "markdown",
   "id": "fe9fe549",
   "metadata": {},
   "source": [
    "<p style=\"text-align:justify; font-family:Helvetica Neue; margin:22px; font-size:14px;\">Since the dawn of civilization, researchers, scholars, and philosophers across discipline like psychology, neuroscience, and philosophy are dedicated themselves to unraveling the long-standing enigma of human emotions and consciousness. Numerous textbooks and academic papers have detailed the mechanism, structural biology, and neural circuitries of the human brain. It is hoped that, over time, these endeavors will illuminate the enigma. Nonetheless, the intricate tapestry of the formation of human emotion and consciousness is still like the flow of stream, they irrigate human mind every single second through synaptic connections among neurons - with or without our awareness - remain in mystery.  \n",
    "    \n",
    "<p style=\"text-align:justify; font-family:Helvetica Neue; margin:22px; font-size:14px;\">Over the past decade, artificial intelligence has expanded rapidly, especially in the recent 5 years, with significant accelerations observed in various subfields such as machine learning (ML), natural language processing (NLP), computer vision, and robotics. These advancements are progressively altering human-technology interaction and our very way of life. Numerous studies and researches have investigated the state of art techniques of the deep neural network we used in current Artificial Intelligence (AI) system, and as well as the possible potential future for the so called Artificial General Intelligence (AGI). A persistent obstacle relentlessly circle back among AI research, which is the current systems's inability to perform generalization and symbolic reasoning - elementary skills innate to human.</p>\n",
    "\n",
    "<p style='text-align:justify; font-family:Helvetica Neue; margin:22px; font-size:14px;'>Through the lens of NLP model, this approach aims to explore the sentiments and linguistic patterns in users-generated, conceptual english texts, with consciousness in real-time. By analyzing the syntactic structure and semantic meanings in content from various social media platforms, it focuses on leveraging NLP techniques as a powerful tool to unravel layers of sentiments and lexical choices, whether subconscious or unconscious, using an AI-assited distance reading methodology. \n",
    "    \n",
    "<p style='text-align:justify; font-family:Helvetica Neue; margin:22px; font-size:14px;'>Combining nuanced human insights, it is hoped that the dynamic and artistic representation of the sentiment landscape visualization could offer a compelling and intriguing option to conceptualize and unravel the mysteries of human emotional and cognitive processes.</p>"
   ]
  },
  {
   "cell_type": "markdown",
   "id": "282a554f",
   "metadata": {},
   "source": [
    "<a name='#2'></a>\n",
    "<h2 style=\"font-family:Helvetica Neue; margin:22px; font-style:italic; text-align:left;\"> Project Goal </h2>"
   ]
  },
  {
   "cell_type": "markdown",
   "id": "28cbbb92",
   "metadata": {},
   "source": [
    "<p style=\"text-align:justify; font-family:Helvetica Neue; margin:22px; font-size:14px;\">In today's data-driven era, despite its inherent limitations, data analysis and narrative visualization provide detailed and macroscopic insights garnered through mathmatical algorithms and computational linguistic techniques, beyond what conventional close reading method can achieve. The methodologies and techniques employed in this project encompass interdisciplinary approaches in data science, cognitive science, and computational linguistics. </p> \n",
    "    \n",
    "    \n",
    "<p style=\"text-align:justify; font-family:Helvetica Neue; margin:22px; font-size:14px;\">The goal of this project is to train and refine a NLP model that will not only facilitate a general understanding of sentiment representation in user-generated text, but also empower users to explore the layers of their sentiments and consciousness. Additionally, they enable users to visually and dynamically narrate the sentiments landscape hidden in their content from a heuristic perspective. It is hoped that this could encourages deeper engagement with their inner world, particularly the linguistic choices, and by extension to their deeper emotions and consciousness. </p>\n",
    "    \n",
    "<p style=\"text-align:justify; font-family:Helvetica Neue; margin:22px; font-size:14px;\">Considering this project as an open invitation for all of us to reevaluate our perception about human cognition in a subconscious manner, by adding a new dimention to our understanding. As we navigate the surging waves of technology, its potential usages and applications will assist us in becoming more adept surfers on its tides.</p>\n"
   ]
  },
  {
   "cell_type": "markdown",
   "id": "c994cbd0",
   "metadata": {},
   "source": [
    "<a name=\"3\"></a>\n",
    "<h2 style=\"font-family:helvetica neue;margin:22px; font-style:italic; text-align:center;\"> Research</h2>"
   ]
  },
  {
   "cell_type": "markdown",
   "id": "e5a9a4c7",
   "metadata": {},
   "source": [
    "<a name=\"3.1\"></a>\n",
    "<h2 style=\"font-family:Helvetica Neue; margin:22px; font-style:italic; text-align:left;\"> Dataset source</h2>"
   ]
  },
  {
   "cell_type": "markdown",
   "id": "2da60e4b",
   "metadata": {},
   "source": [
    "<p style = \"text-align:justify; font-family:Helvetica Neue; margin:22px; color:#4d4d4d; font-size:17px;\">About the Dataset:</p>\n",
    "<p style=\"text-align:justify; font-family:Helvetica Neue; margin:22px; font-size:14px;\">\n",
    "Each entry in this dataset consists of a text segment representing a Twitter message and a corresponding label indicating the predominant emotion conveyed. The emotions are classified into six categories: sadness (0), joy (1), love (2), anger (3), fear (4), and surprise (5). This dataset provides a rich foundation for exploring the nuanced emotional landscape with real user-generated content on social media.\n",
    "\n",
    "<p style = \"text-align:justify; font-family:Helvetica Neue; margin:22px; color:#4d4d4d; font-size:17px;\">Data key feature:</p>\n",
    "<p style=\"text-align:justify; font-family:Helvetica Neue; margin:22px; font-size:14px;\">\n",
    "- Text: A string feature representing the content of the Twitter message.</p>\n",
    "    <p style=\"text-align:justify; font-family:Helvetica Neue; margin:22px; font-size:14px;\">\n",
    "- Label: A classification label indicating the primary emotion, with values ranging from 0 to 5.\n",
    "    </p>"
   ]
  },
  {
   "cell_type": "markdown",
   "id": "7138f0c9",
   "metadata": {},
   "source": [
    "<img src=\"data_1.jpeg\" width=\"450\" height=\"450\">"
   ]
  },
  {
   "cell_type": "markdown",
   "id": "3612d7f1",
   "metadata": {},
   "source": [
    "- [Emotions](https://www.kaggle.com/datasets/nelgiriyewithana/emotions/data)  (16MB Dataset from Kaggle with real user-generated posts from twitter.)"
   ]
  },
  {
   "cell_type": "markdown",
   "id": "01d841bf",
   "metadata": {},
   "source": [
    "<a name=\"3.2\"></a>\n",
    "<h2 style=\"font-family:Helvetica Neue; margin:22px; font-style:italic; text-align:left;\"> Potential Use Cases in the Industry</h2>"
   ]
  },
  {
   "cell_type": "markdown",
   "id": "6cf3abdb",
   "metadata": {},
   "source": [
    "<p style = \"text-align:justify; font-family:Helvetica Neue; margin:22px; color:#4d4d4d; font-size:17px;\">Sentiment Analysis: </p>\n",
    "<p style=\"text-align:justify; font-family:Helvetica Neue; margin:22px; font-size:14px;\">Uncover the prevailing sentiments and trends and in English content across various emotions and lexical choices.</p>\n",
    "<p style = \"text-align:justify; font-family:Helvetica Neue; margin:22px; color:#4d4d4d; font-size:17px;\">Emotion Classification: </p>\n",
    "<p style=\"text-align:justify; font-family:Helvetica Neue; margin:22px; font-size:14px;\">Accurately classify user-generated contents into the six specified emotion categories, and based on the output further train the model to calculate the relevent recommendation content, assisting with emotional well-being.</p>\n",
    "<p style = \"text-align:justify; font-family:Helvetica Neue; margin:22px; color:#4d4d4d; font-size:17px;\">Textual Analysis: </p>\n",
    "<p style=\"text-align:justify; font-family:Helvetica Neue; margin:22px; font-size:14px;\">Explore linguistic patterns and expressions associated with different emotional states, and its underlying cognitive representation.</p> "
   ]
  },
  {
   "cell_type": "markdown",
   "id": "04b54d62",
   "metadata": {},
   "source": [
    "<a name=\"3.3\"></a>\n",
    "<h2 style=\"font-family:helvetica neue;margin:22px; font-style:italic; text-align:left;\"> Methodology</h2>"
   ]
  },
  {
   "cell_type": "markdown",
   "id": "ef347ec2",
   "metadata": {},
   "source": [
    "- Computational Language: Python, Html/Css/Javascript, P5.js.\n",
    "\n",
    "\n",
    "- NLP Model training with Python: spaCy, NumPy, Pandas, transformers.\n",
    "\n",
    "\n",
    "- Disciplinary: Computational linguistics, Data Science, Cognitive psychology."
   ]
  },
  {
   "cell_type": "markdown",
   "id": "adce4b18",
   "metadata": {},
   "source": [
    "<a name=\"3.4\"></a>\n",
    "<h2 style=\"font-family:helvetica neue;margin:22px; font-style:italic; text-align:left;\"> Images reference for data visualization</h2>"
   ]
  },
  {
   "cell_type": "markdown",
   "id": "0e29991f",
   "metadata": {},
   "source": [
    "<img src=\"emotion.JPG\" width=\"450\" height=\"450\"> <img src=\"words.JPG\" width=\"450\" height=\"450\"> <img src=\"flower1.JPG\" width=\"450\" height=\"450\"><img src=\"line.JPG\" width=\"450\" height=\"450\">"
   ]
  },
  {
   "cell_type": "markdown",
   "id": "b882f862",
   "metadata": {},
   "source": [
    "<h2 style=\"font-family:helvetica neue;margin:22px; font-style:italic; text-align:center;\"> Process </h2>"
   ]
  },
  {
   "cell_type": "markdown",
   "id": "4b640fe4",
   "metadata": {},
   "source": [
    "\n",
    "<h2 style=\"font-family:helvetica neue; margin:22px; font-style:italic; text-align:left;\"> Data Preprocessing</h2>\n",
    "<h2 style=\"font-family:helvetica neue; margin:22px; font-style:italic; text-align:left;\"> NLP Model Training and Analyzing</h2>\n",
    "<h2 style=\"font-family:helvetica neue; margin:22px; font-style:italic; text-align:left;\">Information Design</h2>\n",
    "<h2 style=\"font-family:helvetica neue; margin:22px; font-style:italic; text-align:left;\"> Narrative through Creative Coding </h2>"
   ]
  }
 ],
 "metadata": {
  "kernelspec": {
   "display_name": "Python 3 (ipykernel)",
   "language": "python",
   "name": "python3"
  },
  "language_info": {
   "codemirror_mode": {
    "name": "ipython",
    "version": 3
   },
   "file_extension": ".py",
   "mimetype": "text/x-python",
   "name": "python",
   "nbconvert_exporter": "python",
   "pygments_lexer": "ipython3",
   "version": "3.11.8"
  }
 },
 "nbformat": 4,
 "nbformat_minor": 5
}
